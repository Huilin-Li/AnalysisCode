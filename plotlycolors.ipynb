{
 "cells": [
  {
   "cell_type": "code",
   "execution_count": 1,
   "id": "72b92c94-1a2e-44bf-be3c-fd8c1acd9aa3",
   "metadata": {},
   "outputs": [],
   "source": [
    "from PIL import Image\n",
    "import pandas as pd\n",
    "import plotly.graph_objects as go"
   ]
  },
  {
   "cell_type": "code",
   "execution_count": 2,
   "id": "ebf44f69-8b71-4adb-9607-a12e0b0b9fb0",
   "metadata": {},
   "outputs": [],
   "source": [
    "s='''\n",
    "        aliceblue, antiquewhite, aqua, aquamarine, azure,\n",
    "        beige, bisque, black, blanchedalmond, blue,\n",
    "        blueviolet, brown, burlywood, cadetblue,\n",
    "        chartreuse, chocolate, coral, cornflowerblue,\n",
    "        cornsilk, crimson, cyan, darkblue, darkcyan,\n",
    "        darkgoldenrod, darkgray, darkgrey, darkgreen,\n",
    "        darkkhaki, darkmagenta, darkolivegreen, darkorange,\n",
    "        darkorchid, darkred, darksalmon, darkseagreen,\n",
    "        darkslateblue, darkslategray, darkslategrey,\n",
    "        darkturquoise, darkviolet, deeppink, deepskyblue,\n",
    "        dimgray, dimgrey, dodgerblue, firebrick,\n",
    "        floralwhite, forestgreen, fuchsia, gainsboro,\n",
    "        ghostwhite, gold, goldenrod, gray, grey, green,\n",
    "        greenyellow, honeydew, hotpink, indianred, indigo,\n",
    "        ivory, khaki, lavender, lavenderblush, lawngreen,\n",
    "        lemonchiffon, lightblue, lightcoral, lightcyan,\n",
    "        lightgoldenrodyellow, lightgray, lightgrey,\n",
    "        lightgreen, lightpink, lightsalmon, lightseagreen,\n",
    "        lightskyblue, lightslategray, lightslategrey,\n",
    "        lightsteelblue, lightyellow, lime, limegreen,\n",
    "        linen, magenta, maroon, mediumaquamarine,\n",
    "        mediumblue, mediumorchid, mediumpurple,\n",
    "        mediumseagreen, mediumslateblue, mediumspringgreen,\n",
    "        mediumturquoise, mediumvioletred, midnightblue,\n",
    "        mintcream, mistyrose, moccasin, navajowhite, navy,\n",
    "        oldlace, olive, olivedrab, orange, orangered,\n",
    "        orchid, palegoldenrod, palegreen, paleturquoise,\n",
    "        palevioletred, papayawhip, peachpuff, peru, pink,\n",
    "        plum, powderblue, purple, red, rosybrown,\n",
    "        royalblue, saddlebrown, salmon, sandybrown,\n",
    "        seagreen, seashell, sienna, silver, skyblue,\n",
    "        slateblue, slategray, slategrey, snow, springgreen,\n",
    "        steelblue, tan, teal, thistle, tomato, turquoise,\n",
    "        violet, wheat, white, whitesmoke, yellow,\n",
    "        yellowgreen\n",
    "        '''"
   ]
  },
  {
   "cell_type": "code",
   "execution_count": 3,
   "id": "843ee9c3-26e6-4c89-b167-11946fac6428",
   "metadata": {},
   "outputs": [],
   "source": [
    "li=s.split(',')\n",
    "li=[l.replace('\\n','') for l in li]\n",
    "li=[l.replace(' ','') for l in li]"
   ]
  },
  {
   "cell_type": "code",
   "execution_count": 5,
   "id": "a72aad4c-f45a-4eb4-bd9a-3feabc8b5850",
   "metadata": {},
   "outputs": [],
   "source": [
    "for c in li:\n",
    "    fig_sq = go.Figure()\n",
    "    fig_sq.add_shape(type=\"rect\",\n",
    "        x0=0, y0=0, x1=5, y1=2,\n",
    "        line=dict(width=0),\n",
    "        fillcolor=c,\n",
    "    )\n",
    "    fig_sq.update_layout(width=500, height=400,\n",
    "                        paper_bgcolor = 'rgba(0,0,0,0)',\n",
    "                        plot_bgcolor = 'rgba(0,0,0,0)',\n",
    "                        scene=dict(xaxis_visible=False, yaxis_visible=False),\n",
    "                        showlegend=False)\n",
    "    fig_sq.update_xaxes(showgrid=False, zeroline=False, visible=False)\n",
    "    fig_sq.update_yaxes(showgrid=False, zeroline=False, visible=False)\n",
    "    fig_sq.write_image(\"img_col/\"+c+\".png\")"
   ]
  },
  {
   "cell_type": "code",
   "execution_count": 7,
   "id": "da8a9df0-0086-418c-9b4d-54053bfbaa10",
   "metadata": {},
   "outputs": [],
   "source": [
    "for n in li:\n",
    "    im = Image.open(\"./img_col/\"+n+\".png\")\n",
    "    # Setting the points for cropped image\n",
    "    left = 130\n",
    "    top = 210\n",
    "    right = 370\n",
    "    bottom = 275\n",
    "     \n",
    "    # Cropped image of above dimension\n",
    "    # (It will not change original image)\n",
    "    im1 = im.crop((left, top, right, bottom))\n",
    "    # Shows the image in image viewer\n",
    "    im1.save(\"./colors/\"+n+\".png\")"
   ]
  },
  {
   "cell_type": "code",
   "execution_count": 9,
   "id": "f147bb32-2f14-4ce2-9bd2-a96200c827e1",
   "metadata": {
    "scrolled": true
   },
   "outputs": [],
   "source": [
    "# print(\"<table>\")\n",
    "# for i in range(0,147,2):\n",
    "#     print(\"  <tr>\")\n",
    "#     print(\"    <td><img src=\\\"../images/colors/\"+li[i]+\".png\\\"\"+\"  width = 500px height = 500px></td>\")\n",
    "#     print(\"    <td>\"+li[i]+\"</td>\")\n",
    "#     print(\"    <td><img src=\\\"../images/colors/\"+li[i+1]+\".png\\\"\"+\"  width = 500px height = 500px></td>\")\n",
    "#     print(\"    <td>\"+li[i+1]+\"</td>\")\n",
    "#     print(\"  </tr>\")\n",
    "# print(\"</table>\")"
   ]
  },
  {
   "cell_type": "code",
   "execution_count": null,
   "id": "792bde11-33b3-4be4-99b0-a5106f6a5d81",
   "metadata": {},
   "outputs": [],
   "source": []
  },
  {
   "cell_type": "code",
   "execution_count": null,
   "id": "e371c07a-cd84-4caa-b0c1-245fc9f97291",
   "metadata": {},
   "outputs": [],
   "source": []
  },
  {
   "cell_type": "code",
   "execution_count": null,
   "id": "b2c78a9e-6659-41fe-b107-6556d87bf3b6",
   "metadata": {},
   "outputs": [],
   "source": []
  }
 ],
 "metadata": {
  "kernelspec": {
   "display_name": "Python 3 (ipykernel)",
   "language": "python",
   "name": "python3"
  },
  "language_info": {
   "codemirror_mode": {
    "name": "ipython",
    "version": 3
   },
   "file_extension": ".py",
   "mimetype": "text/x-python",
   "name": "python",
   "nbconvert_exporter": "python",
   "pygments_lexer": "ipython3",
   "version": "3.11.7"
  }
 },
 "nbformat": 4,
 "nbformat_minor": 5
}
